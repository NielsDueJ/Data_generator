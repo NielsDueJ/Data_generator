{
 "cells": [
  {
   "cell_type": "markdown",
   "id": "8cbcc952-fe0d-44b7-916a-5a682ac060e6",
   "metadata": {},
   "source": [
    "# Data Generator\n",
    "In lack of data sources like Bloomberg Terminals or the like, I have build this code for generating stock price data. This allows me to access timple test data with fictive features such as rallies, crashes, recoveries, stock splits, dividends, real variations like abnormalities, deviations in Open, High, Low, and Close."
   ]
  },
  {
   "cell_type": "code",
   "execution_count": 17,
   "id": "e0bf9283-0a03-4473-9cb8-87acc441c606",
   "metadata": {},
   "outputs": [],
   "source": [
    "# Import required libraries\n",
    "import pandas as pd\n",
    "import numpy as np\n",
    "import os\n",
    "\n",
    "# Define the directory and ensure it exists\n",
    "directory = \"Market_Data\"\n",
    "if not os.path.exists(directory):\n",
    "    os.makedirs(directory)"
   ]
  },
  {
   "cell_type": "markdown",
   "id": "186b229b-a23e-43b2-9632-b990674bb68a",
   "metadata": {},
   "source": [
    "# Upwards Trend"
   ]
  },
  {
   "cell_type": "code",
   "execution_count": 8,
   "id": "b7fe4d4e-f3ef-4d40-a24f-a066137a3e96",
   "metadata": {},
   "outputs": [
    {
     "name": "stdout",
     "output_type": "stream",
     "text": [
      "Dataset generated and saved to Market_Data/fictive_stock_data_upward_trend.csv\n"
     ]
    }
   ],
   "source": [
    "# Define date range\n",
    "date_range = pd.date_range(start=\"2020-01-01\", end=\"2024-11-20\", freq='B')  # Business days only\n",
    "num_days = len(date_range)\n",
    "\n",
    "# Create an upward trend\n",
    "upward_prices = np.linspace(50, 500, num_days) + np.random.normal(0, 3, num_days)  # Smoother upward trend\n",
    "\n",
    "# Generate realistic stock data for the upward trend\n",
    "data_upward_trend = {\n",
    "    \"Date\": date_range,\n",
    "    \"Open\": upward_prices * np.random.uniform(0.98, 1.02, num_days),\n",
    "    \"High\": upward_prices * np.random.uniform(1.00, 1.03, num_days),\n",
    "    \"Low\": upward_prices * np.random.uniform(0.95, 0.99, num_days),\n",
    "    \"Close\": upward_prices * np.random.uniform(0.97, 1.01, num_days),\n",
    "    \"Adj Close\": upward_prices * np.random.uniform(0.97, 1.01, num_days),\n",
    "    \"Volume\": np.random.randint(500_000, 5_000_000, num_days),\n",
    "}\n",
    "\n",
    "# Create DataFrame\n",
    "stock_data_upward = pd.DataFrame(data_upward_trend)\n",
    "stock_data_upward = stock_data_upward.round({\n",
    "    \"Open\": 2, \"High\": 2, \"Low\": 2, \"Close\": 2, \"Adj Close\": 2\n",
    "})  # Round prices\n",
    "\n",
    "# Save to CSV inside the Market_Data directory\n",
    "file_path_upward = os.path.join(directory, \"fictive_stock_data_upward_trend.csv\")\n",
    "stock_data_upward.to_csv(file_path_upward, index=False)\n",
    "\n",
    "print(f\"Dataset generated and saved to {file_path_upward}\")"
   ]
  },
  {
   "cell_type": "markdown",
   "id": "38836d5d-980b-4353-9d06-577a1846ca36",
   "metadata": {},
   "source": [
    "# Upwards Trend + Crash & Recovery"
   ]
  },
  {
   "cell_type": "code",
   "execution_count": 10,
   "id": "dc5388e8-576d-4fce-91b5-5da92c5d6b33",
   "metadata": {},
   "outputs": [
    {
     "name": "stdout",
     "output_type": "stream",
     "text": [
      "Dataset generated and saved to Market_Data/fictive_stock_data_crash_recovery.csv\n"
     ]
    }
   ],
   "source": [
    "# Define date range\n",
    "date_range = pd.date_range(start=\"2020-01-01\", end=\"2024-11-20\", freq='B')  # Business days only\n",
    "num_days = len(date_range)\n",
    "\n",
    "# Create a base upward trend\n",
    "prices = np.linspace(50, 500, num_days)\n",
    "\n",
    "# Simulate a big crash in 2022\n",
    "crash_start = pd.Timestamp(\"2022-01-01\")\n",
    "crash_end = pd.Timestamp(\"2022-12-31\")\n",
    "crash_mask = (date_range >= crash_start) & (date_range <= crash_end)\n",
    "prices[crash_mask] = prices[crash_mask] * np.linspace(1, 0.5, crash_mask.sum())  # Drop to 50% of the value\n",
    "\n",
    "# Recovery after the crash\n",
    "recovery_start = pd.Timestamp(\"2023-01-01\")\n",
    "recovery_mask = (date_range > crash_end) & (date_range >= recovery_start)\n",
    "prices[recovery_mask] = np.linspace(prices[crash_mask][-1], 500, recovery_mask.sum())\n",
    "\n",
    "# Add randomness to the prices\n",
    "prices += np.random.normal(0, 5, num_days)\n",
    "\n",
    "# Generate realistic stock data for the trend with a crash and recovery\n",
    "data_crash_recovery = {\n",
    "    \"Date\": date_range,\n",
    "    \"Open\": prices * np.random.uniform(0.98, 1.02, num_days),\n",
    "    \"High\": prices * np.random.uniform(1.00, 1.03, num_days),\n",
    "    \"Low\": prices * np.random.uniform(0.95, 0.99, num_days),\n",
    "    \"Close\": prices * np.random.uniform(0.97, 1.01, num_days),\n",
    "    \"Adj Close\": prices * np.random.uniform(0.97, 1.01, num_days),\n",
    "    \"Volume\": np.random.randint(500_000, 5_000_000, num_days),\n",
    "}\n",
    "\n",
    "# Create DataFrame\n",
    "stock_data_crash_recovery = pd.DataFrame(data_crash_recovery)\n",
    "stock_data_crash_recovery = stock_data_crash_recovery.round({\n",
    "    \"Open\": 2, \"High\": 2, \"Low\": 2, \"Close\": 2, \"Adj Close\": 2\n",
    "})  # Round prices\n",
    "\n",
    "# Save to CSV inside the Market_Data directory\n",
    "file_path_crash_recovery = os.path.join(directory, \"fictive_stock_data_crash_recovery.csv\")\n",
    "stock_data_crash_recovery.to_csv(file_path_crash_recovery, index=False)\n",
    "\n",
    "print(f\"Dataset generated and saved to {file_path_crash_recovery}\")"
   ]
  },
  {
   "cell_type": "markdown",
   "id": "486e627d-f777-49b7-b699-6e59a0dae30c",
   "metadata": {},
   "source": [
    "# Upwards Trend + Stock Split"
   ]
  },
  {
   "cell_type": "code",
   "execution_count": 19,
   "id": "70363271-b608-4be6-8774-df0c3848491c",
   "metadata": {},
   "outputs": [
    {
     "name": "stdout",
     "output_type": "stream",
     "text": [
      "Dataset generated and saved to Market_Data/fictive_stock_data_with_split.csv\n"
     ]
    }
   ],
   "source": [
    "# Define date range\n",
    "date_range = pd.date_range(start=\"2020-01-01\", end=\"2024-11-20\", freq='B')  # Business days only\n",
    "num_days = len(date_range)\n",
    "\n",
    "# Create a steady upward trend\n",
    "prices = np.linspace(50, 500, num_days) + np.random.normal(0, 3, num_days)  # Add some noise\n",
    "\n",
    "# Introduce a stock split\n",
    "split_date = np.random.choice(date_range[365:])  # Random split date, at least after one year\n",
    "split_index = np.where(date_range == split_date)[0][0]\n",
    "\n",
    "# Apply the split: halve the price and double the volume after the split date\n",
    "split_factor = 0.5\n",
    "prices[split_index:] = prices[split_index:] * split_factor\n",
    "\n",
    "# Generate realistic trading volumes\n",
    "volumes = np.random.randint(500_000, 5_000_000, num_days)\n",
    "volumes[split_index:] = volumes[split_index:] * (1 / split_factor)  # Double volume after the split\n",
    "\n",
    "# Generate realistic stock data for the upward trend with a stock split\n",
    "data_with_split = {\n",
    "    \"Date\": date_range,\n",
    "    \"Open\": prices * np.random.uniform(0.98, 1.02, num_days),\n",
    "    \"High\": prices * np.random.uniform(1.00, 1.03, num_days),\n",
    "    \"Low\": prices * np.random.uniform(0.95, 0.99, num_days),\n",
    "    \"Close\": prices * np.random.uniform(0.97, 1.01, num_days),\n",
    "    \"Adj Close\": prices * np.random.uniform(0.97, 1.01, num_days),\n",
    "    \"Volume\": volumes,\n",
    "    \"Split Factor\": [1 if i < split_index else split_factor for i in range(num_days)]\n",
    "}\n",
    "\n",
    "# Create DataFrame\n",
    "stock_data_with_split = pd.DataFrame(data_with_split)\n",
    "stock_data_with_split = stock_data_with_split.round({\n",
    "    \"Open\": 2, \"High\": 2, \"Low\": 2, \"Close\": 2, \"Adj Close\": 2\n",
    "})  # Round prices\n",
    "\n",
    "# Save to CSV inside the Market_Data directory\n",
    "file_path_with_split = os.path.join(directory, \"fictive_stock_data_with_split.csv\")\n",
    "stock_data_with_split.to_csv(file_path_with_split, index=False)\n",
    "\n",
    "print(f\"Dataset generated and saved to {file_path_with_split}\")"
   ]
  },
  {
   "cell_type": "markdown",
   "id": "5f720dba-1104-41fc-ad5b-6df07e9b9cb1",
   "metadata": {},
   "source": [
    "# Random Fluctuations"
   ]
  },
  {
   "cell_type": "code",
   "execution_count": 24,
   "id": "429be1b8-f6dd-4c9c-8011-853f8164c46d",
   "metadata": {},
   "outputs": [
    {
     "name": "stdout",
     "output_type": "stream",
     "text": [
      "Dataset generated and saved to Market_Data/fictive_stock_data_random_fluctuations.csv\n"
     ]
    }
   ],
   "source": [
    "# Define date range\n",
    "date_range = pd.date_range(start=\"2020-01-01\", end=\"2024-11-20\", freq='B')  # Business days only\n",
    "num_days = len(date_range)\n",
    "\n",
    "# Generate random fluctuations for prices\n",
    "prices = [100]  # Start price at 100\n",
    "for _ in range(1, num_days):\n",
    "    change = np.random.uniform(-2, 2)  # Daily price change between -2 and 2\n",
    "    prices.append(prices[-1] + change)\n",
    "\n",
    "# Ensure prices stay positive\n",
    "prices = np.maximum(prices, 1)  # Avoid negative or zero prices\n",
    "\n",
    "# Generate realistic trading volumes\n",
    "volumes = np.random.randint(500_000, 5_000_000, num_days)\n",
    "\n",
    "# Generate realistic stock data for random fluctuations\n",
    "data_random_fluctuations = {\n",
    "    \"Date\": date_range,\n",
    "    \"Open\": np.array(prices) * np.random.uniform(0.98, 1.02, num_days),\n",
    "    \"High\": np.array(prices) * np.random.uniform(1.00, 1.03, num_days),\n",
    "    \"Low\": np.array(prices) * np.random.uniform(0.95, 0.99, num_days),\n",
    "    \"Close\": np.array(prices) * np.random.uniform(0.97, 1.01, num_days),\n",
    "    \"Adj Close\": np.array(prices) * np.random.uniform(0.97, 1.01, num_days),\n",
    "    \"Volume\": volumes\n",
    "}\n",
    "\n",
    "# Create DataFrame\n",
    "stock_data_random = pd.DataFrame(data_random_fluctuations)\n",
    "stock_data_random = stock_data_random.round({\n",
    "    \"Open\": 2, \"High\": 2, \"Low\": 2, \"Close\": 2, \"Adj Close\": 2\n",
    "})  # Round prices\n",
    "\n",
    "# Save to CSV inside the Market_Data directory\n",
    "file_path_random = os.path.join(directory, \"fictive_stock_data_random_fluctuations.csv\")\n",
    "stock_data_random.to_csv(file_path_random, index=False)\n",
    "\n",
    "print(f\"Dataset generated and saved to {file_path_random}\")"
   ]
  },
  {
   "cell_type": "markdown",
   "id": "419de776-06ac-498f-93c2-2fd0747a7db2",
   "metadata": {},
   "source": [
    "# Data for Multiple Stock Prices"
   ]
  },
  {
   "cell_type": "code",
   "execution_count": 26,
   "id": "6cb74cdf-0cb2-41ac-91c9-bb68e9956492",
   "metadata": {},
   "outputs": [
    {
     "name": "stdout",
     "output_type": "stream",
     "text": [
      "Dataset generated and saved to Market_Data/fictive_stock_data_101_companies.csv\n"
     ]
    }
   ],
   "source": [
    "# Define date range\n",
    "date_range = pd.date_range(start=\"2020-01-01\", end=\"2024-11-20\", freq='B')  # Business days only\n",
    "num_days = len(date_range)\n",
    "\n",
    "# Define the companies\n",
    "companies = list(range(1, 102))  # Generate numbers 1 to 101 as company identifiers\n",
    "\n",
    "# Function to generate unique price movements for each company\n",
    "def generate_price_movement(trend_type):\n",
    "    prices = []\n",
    "    if trend_type == \"upward\":\n",
    "        prices = np.linspace(50, 500, num_days) + np.random.normal(0, 5, num_days)\n",
    "    elif trend_type == \"downward\":\n",
    "        prices = np.linspace(500, 50, num_days) + np.random.normal(0, 5, num_days)\n",
    "    elif trend_type == \"random\":\n",
    "        prices = [100]\n",
    "        for _ in range(1, num_days):\n",
    "            prices.append(prices[-1] + np.random.uniform(-2, 2))\n",
    "        prices = np.maximum(prices, 1)  # Ensure no negative prices\n",
    "    elif trend_type == \"crash\":\n",
    "        prices = np.linspace(100, 500, num_days)\n",
    "        crash_start = pd.Timestamp(\"2022-01-01\")\n",
    "        crash_end = pd.Timestamp(\"2022-12-31\")\n",
    "        crash_mask = (date_range >= crash_start) & (date_range <= crash_end)\n",
    "        prices[crash_mask] = prices[crash_mask] * np.linspace(1, 0.3, crash_mask.sum())\n",
    "        prices = prices + np.random.normal(0, 5, num_days)\n",
    "    return np.maximum(prices, 1)  # Ensure no negative prices\n",
    "\n",
    "# Generate data for all companies\n",
    "data = []\n",
    "for company in companies:\n",
    "    trend_type = np.random.choice([\"upward\", \"downward\", \"random\", \"crash\"])  # Randomly select a trend\n",
    "    prices = generate_price_movement(trend_type)\n",
    "    volumes = np.random.randint(500_000, 5_000_000, num_days)\n",
    "    \n",
    "    for i, date in enumerate(date_range):\n",
    "        data.append({\n",
    "            \"Company\": company,\n",
    "            \"Date\": date,\n",
    "            \"Open\": prices[i] * np.random.uniform(0.98, 1.02),\n",
    "            \"High\": prices[i] * np.random.uniform(1.00, 1.03),\n",
    "            \"Low\": prices[i] * np.random.uniform(0.95, 0.99),\n",
    "            \"Close\": prices[i] * np.random.uniform(0.97, 1.01),\n",
    "            \"Adj Close\": prices[i] * np.random.uniform(0.97, 1.01),\n",
    "            \"Volume\": volumes[i]\n",
    "        })\n",
    "\n",
    "# Create DataFrame\n",
    "stock_data_multiple = pd.DataFrame(data)\n",
    "stock_data_multiple = stock_data_multiple.round({\n",
    "    \"Open\": 2, \"High\": 2, \"Low\": 2, \"Close\": 2, \"Adj Close\": 2\n",
    "})  # Round prices\n",
    "\n",
    "# Save to CSV inside the Market_Data directory\n",
    "file_path_multiple = os.path.join(directory, \"fictive_stock_data_101_companies.csv\")\n",
    "stock_data_multiple.to_csv(file_path_multiple, index=False)\n",
    "\n",
    "print(f\"Dataset generated and saved to {file_path_multiple}\")"
   ]
  },
  {
   "cell_type": "markdown",
   "id": "8f312d3a-7df6-472a-9290-f62cfe3643d3",
   "metadata": {},
   "source": [
    "# Data for Multiple Stock Prices with Simulated Crash and Correlation Environment"
   ]
  },
  {
   "cell_type": "code",
   "execution_count": 29,
   "id": "93ee68f2-edb7-44c8-b303-0639c33fac92",
   "metadata": {},
   "outputs": [
    {
     "name": "stdout",
     "output_type": "stream",
     "text": [
      "Dataset generated and saved to Market_Data/fictive_stock_data_101_companies_correlated.csv\n"
     ]
    }
   ],
   "source": [
    "# Define date range\n",
    "date_range = pd.date_range(start=\"2020-01-01\", end=\"2024-11-20\", freq='B')  # Business days only\n",
    "num_days = len(date_range)\n",
    "\n",
    "# Define the companies\n",
    "companies = list(range(1, 102))  # Generate numbers 1 to 101 as company identifiers\n",
    "\n",
    "# Randomly select a crash date\n",
    "crash_start = pd.Timestamp(\"2022-01-01\")\n",
    "crash_end = pd.Timestamp(\"2022-06-30\")\n",
    "crash_date = np.random.choice(pd.date_range(crash_start, crash_end, freq=\"B\"))\n",
    "\n",
    "# Function to generate price movements with optional correlation\n",
    "def generate_price_movement(base_prices=None, correlation=None):\n",
    "    if correlation == \"positive\":\n",
    "        # Positively correlated: Follow base prices with slight variations\n",
    "        prices = base_prices * np.random.uniform(0.95, 1.05, len(base_prices))\n",
    "    elif correlation == \"negative\":\n",
    "        # Negatively correlated: Move inversely to base prices\n",
    "        prices = base_prices.max() + base_prices.min() - base_prices * np.random.uniform(0.95, 1.05, len(base_prices))\n",
    "    else:\n",
    "        # Independent behavior\n",
    "        prices = [100]\n",
    "        for _ in range(1, num_days):\n",
    "            prices.append(prices[-1] + np.random.uniform(-2, 2))\n",
    "        prices = np.maximum(prices, 1)  # Ensure no negative prices\n",
    "    return np.maximum(prices, 1)  # Ensure no negative prices\n",
    "\n",
    "# Generate base prices for the market with a crash\n",
    "base_prices = np.linspace(500, 50, num_days)  # General downward trend\n",
    "crash_index = np.where(date_range == crash_date)[0][0]\n",
    "base_prices[crash_index:] *= 0.3  # Apply crash after the crash date\n",
    "base_prices += np.random.normal(0, 5, num_days)  # Add noise\n",
    "\n",
    "# Generate data for all companies\n",
    "data = []\n",
    "for company in companies:\n",
    "    if company % 3 == 0:\n",
    "        # Positively correlated\n",
    "        prices = generate_price_movement(base_prices, correlation=\"positive\")\n",
    "    elif company % 3 == 1:\n",
    "        # Negatively correlated\n",
    "        prices = generate_price_movement(base_prices, correlation=\"negative\")\n",
    "    else:\n",
    "        # Independent behavior\n",
    "        prices = generate_price_movement()\n",
    "    \n",
    "    volumes = np.random.randint(500_000, 5_000_000, num_days)\n",
    "    \n",
    "    for i, date in enumerate(date_range):\n",
    "        data.append({\n",
    "            \"Company\": company,\n",
    "            \"Date\": date,\n",
    "            \"Open\": prices[i] * np.random.uniform(0.98, 1.02),\n",
    "            \"High\": prices[i] * np.random.uniform(1.00, 1.03),\n",
    "            \"Low\": prices[i] * np.random.uniform(0.95, 0.99),\n",
    "            \"Close\": prices[i] * np.random.uniform(0.97, 1.01),\n",
    "            \"Adj Close\": prices[i] * np.random.uniform(0.97, 1.01),\n",
    "            \"Volume\": volumes[i]\n",
    "        })\n",
    "\n",
    "# Create DataFrame\n",
    "stock_data_correlated = pd.DataFrame(data)\n",
    "stock_data_correlated = stock_data_correlated.round({\n",
    "    \"Open\": 2, \"High\": 2, \"Low\": 2, \"Close\": 2, \"Adj Close\": 2\n",
    "})  # Round prices\n",
    "\n",
    "# Save to CSV inside the Market_Data directory\n",
    "file_path_correlated = os.path.join(directory, \"fictive_stock_data_101_companies_correlated.csv\")\n",
    "stock_data_correlated.to_csv(file_path_correlated, index=False)\n",
    "\n",
    "print(f\"Dataset generated and saved to {file_path_correlated}\")"
   ]
  },
  {
   "cell_type": "markdown",
   "id": "795b0659-9b19-42fa-8a61-f6b03b615b0b",
   "metadata": {},
   "source": [
    "# Data for Multiple Stock Prices with Simulated Crash and Correlation Environment\n",
    "Companies represented on Horisontal Axis"
   ]
  },
  {
   "cell_type": "code",
   "execution_count": 37,
   "id": "371ab82f-0b5c-4847-b07d-32bec362c094",
   "metadata": {},
   "outputs": [
    {
     "name": "stdout",
     "output_type": "stream",
     "text": [
      "Dataset generated and saved to Market_Data/fictive_stock_data_101_correlated_sorted.csv\n"
     ]
    }
   ],
   "source": [
    "# Define date range\n",
    "date_range = pd.date_range(start=\"2020-01-01\", end=\"2024-11-20\", freq='B')  # Business days only\n",
    "num_days = len(date_range)\n",
    "\n",
    "# Define the companies\n",
    "companies = list(range(1, 102))  # Generate numbers 1 to 101 as company identifiers\n",
    "\n",
    "# Randomly select a crash date\n",
    "crash_start = pd.Timestamp(\"2022-01-01\")\n",
    "crash_end = pd.Timestamp(\"2022-06-30\")\n",
    "crash_date = np.random.choice(pd.date_range(crash_start, crash_end, freq=\"B\"))\n",
    "\n",
    "# Function to generate price movements with optional correlation\n",
    "def generate_price_movement(base_prices=None, correlation=None):\n",
    "    if correlation == \"positive\":\n",
    "        # Positively correlated: Follow base prices with slight variations\n",
    "        prices = base_prices * np.random.uniform(0.95, 1.05, len(base_prices))\n",
    "    elif correlation == \"negative\":\n",
    "        # Negatively correlated: Move inversely to base prices\n",
    "        prices = base_prices.max() + base_prices.min() - base_prices * np.random.uniform(0.95, 1.05, len(base_prices))\n",
    "    else:\n",
    "        # Independent behavior\n",
    "        prices = [100]\n",
    "        for _ in range(1, num_days):\n",
    "            prices.append(prices[-1] + np.random.uniform(-2, 2))\n",
    "        prices = np.maximum(prices, 1)  # Ensure no negative prices\n",
    "    return np.maximum(prices, 1)  # Ensure no negative prices\n",
    "\n",
    "# Generate base prices for the market with a crash\n",
    "base_prices = np.linspace(500, 50, num_days)  # General downward trend\n",
    "crash_index = np.where(date_range == crash_date)[0][0]\n",
    "base_prices[crash_index:] *= 0.3  # Apply crash after the crash date\n",
    "base_prices += np.random.normal(0, 5, num_days)  # Add noise\n",
    "\n",
    "# Generate data for all companies\n",
    "company_data = {}\n",
    "for company in companies:\n",
    "    if company % 3 == 0:\n",
    "        # Positively correlated\n",
    "        prices = generate_price_movement(base_prices, correlation=\"positive\")\n",
    "    elif company % 3 == 1:\n",
    "        # Negatively correlated\n",
    "        prices = generate_price_movement(base_prices, correlation=\"negative\")\n",
    "    else:\n",
    "        # Independent behavior\n",
    "        prices = generate_price_movement()\n",
    "    company_data[company] = prices\n",
    "\n",
    "# Create DataFrame with dates as rows and companies as columns\n",
    "stock_data_transposed = pd.DataFrame(company_data, index=date_range)\n",
    "stock_data_transposed.index.name = \"Date\"\n",
    "\n",
    "# Save to CSV inside the Market_Data directory\n",
    "file_path_transposed = os.path.join(directory, \"fictive_stock_data_101_correlated_sorted.csv\")\n",
    "stock_data_transposed.to_csv(file_path_transposed)\n",
    "\n",
    "print(f\"Dataset generated and saved to {file_path_transposed}\")"
   ]
  }
 ],
 "metadata": {
  "kernelspec": {
   "display_name": "Python 3 (ipykernel)",
   "language": "python",
   "name": "python3"
  },
  "language_info": {
   "codemirror_mode": {
    "name": "ipython",
    "version": 3
   },
   "file_extension": ".py",
   "mimetype": "text/x-python",
   "name": "python",
   "nbconvert_exporter": "python",
   "pygments_lexer": "ipython3",
   "version": "3.11.7"
  }
 },
 "nbformat": 4,
 "nbformat_minor": 5
}
